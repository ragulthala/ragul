{
  "nbformat": 4,
  "nbformat_minor": 0,
  "metadata": {
    "colab": {
      "private_outputs": true,
      "provenance": []
    },
    "kernelspec": {
      "name": "python3",
      "display_name": "Python 3"
    },
    "language_info": {
      "name": "python"
    }
  },
  "cells": [
    {
      "cell_type": "code",
      "execution_count": null,
      "metadata": {
        "id": "_8iX9vWTfv08"
      },
      "outputs": [],
      "source": [
        "!pip install -U ipykernal"
      ]
    },
    {
      "cell_type": "code",
      "source": [
        "!pip install -q streamlit"
      ],
      "metadata": {
        "id": "IihYHYh0gQ7G"
      },
      "execution_count": null,
      "outputs": []
    },
    {
      "cell_type": "code",
      "source": [
        "!pip install pyngrok"
      ],
      "metadata": {
        "id": "W-eUSyj9gjqS"
      },
      "execution_count": null,
      "outputs": []
    },
    {
      "cell_type": "code",
      "source": [
        "!ngrok config add-authtoken 2FJLHmufYD29aZvoJXBMzRLgEKM_3sfDZKgZYpRLmVsZd44WL"
      ],
      "metadata": {
        "id": "J_kJB3R9gyeK"
      },
      "execution_count": null,
      "outputs": []
    },
    {
      "cell_type": "code",
      "source": [
        "!ngrok config add-authtoken 2FJLHmufYD29aZvoJXBMzRLgEKM_3sfDZKgZYpRLmVsZd44WL"
      ],
      "metadata": {
        "id": "rA07OcgjhWUa"
      },
      "execution_count": null,
      "outputs": []
    },
    {
      "cell_type": "code",
      "source": [],
      "metadata": {
        "id": "3cbVhz4Kijuz"
      },
      "execution_count": null,
      "outputs": []
    },
    {
      "cell_type": "code",
      "source": [
        "!ngrok config add-authtoken 2FJLHmufYD29aZvoJXBMzRLgEKM_3sfDZKgZYpRLmVsZd44WL"
      ],
      "metadata": {
        "id": "y0fYqYICi9qw"
      },
      "execution_count": null,
      "outputs": []
    },
    {
      "cell_type": "code",
      "source": [
        "!ngrok config add-authtoken 2FJLHmufYD29aZvoJXBMzRLgEKM_3sfDZKgZYpRLmVsZd44WL"
      ],
      "metadata": {
        "id": "4byJLQMajCjx"
      },
      "execution_count": null,
      "outputs": []
    },
    {
      "cell_type": "code",
      "source": [
        "# in ngrok.yml\n",
        "!authtoken: 2FJLHmufYD29aZvoJXBMzRLgEKM_3sfDZKgZYpRLmVsZd44WL"
      ],
      "metadata": {
        "id": "O74MbLKQjzr2"
      },
      "execution_count": null,
      "outputs": []
    },
    {
      "cell_type": "code",
      "source": [
        "!ngrok config add-authtoken 2FL9v3R2MJq9GEkCZWvjvcjVpB8_3b7sWkpNu4oFAKQY4WjzD"
      ],
      "metadata": {
        "id": "pfezmRC4kEDB"
      },
      "execution_count": null,
      "outputs": []
    },
    {
      "cell_type": "code",
      "source": [
        "from pyngrok import ngrok"
      ],
      "metadata": {
        "id": "xaDbUKLwq8-M"
      },
      "execution_count": null,
      "outputs": []
    },
    {
      "cell_type": "code",
      "source": [],
      "metadata": {
        "id": "31AHG1aorE5j"
      },
      "execution_count": null,
      "outputs": []
    },
    {
      "cell_type": "code",
      "source": [
        "from google.colab import drive\n",
        "drive.mount('/content/drive')"
      ],
      "metadata": {
        "id": "okjLWIhgrR6s"
      },
      "execution_count": null,
      "outputs": []
    },
    {
      "cell_type": "code",
      "source": [
        "import tensorflow as tf"
      ],
      "metadata": {
        "id": "aDtwpfxJsvjL"
      },
      "execution_count": null,
      "outputs": []
    },
    {
      "cell_type": "code",
      "source": [
        "import numpy as np"
      ],
      "metadata": {
        "id": "X4hZPJNCtXKs"
      },
      "execution_count": null,
      "outputs": []
    },
    {
      "cell_type": "code",
      "source": [
        "import streamlit as st"
      ],
      "metadata": {
        "id": "G7HTTeM2tax8"
      },
      "execution_count": null,
      "outputs": []
    },
    {
      "cell_type": "code",
      "source": [
        "from PIL import Image"
      ],
      "metadata": {
        "id": "xe3lts-Itgwy"
      },
      "execution_count": null,
      "outputs": []
    },
    {
      "cell_type": "code",
      "source": [
        "from io import BytesIO"
      ],
      "metadata": {
        "id": "c5vLUDK6tnC6"
      },
      "execution_count": null,
      "outputs": []
    },
    {
      "cell_type": "code",
      "source": [
        "from tensorflow import keras"
      ],
      "metadata": {
        "id": "oUUG084w6fXB"
      },
      "execution_count": null,
      "outputs": []
    },
    {
      "cell_type": "code",
      "source": [
        "pip install requests"
      ],
      "metadata": {
        "id": "CbC3zQxZRmG-"
      },
      "execution_count": null,
      "outputs": []
    },
    {
      "cell_type": "code",
      "source": [
        "st.set_option('deprecation.showfileUploaderEncoding', False)"
      ],
      "metadata": {
        "id": "81BqPjuettYC"
      },
      "execution_count": null,
      "outputs": []
    },
    {
      "cell_type": "code",
      "source": [
        "st.title(\"signature Identifier\")"
      ],
      "metadata": {
        "id": "MmYE9mvIuNML"
      },
      "execution_count": null,
      "outputs": []
    },
    {
      "cell_type": "code",
      "source": [
        "st.text(\"provide URl for image \")"
      ],
      "metadata": {
        "id": "UWaVMXP8uhe_"
      },
      "execution_count": null,
      "outputs": []
    },
    {
      "cell_type": "code",
      "source": [
        "new_model = tf.keras.models.load_model('/content/drive/MyDrive/Akash.e/save models')"
      ],
      "metadata": {
        "id": "SwANyJWZuqqj"
      },
      "execution_count": null,
      "outputs": []
    },
    {
      "cell_type": "code",
      "source": [
        "import requests"
      ],
      "metadata": {
        "id": "NRasQPwiVZgb"
      },
      "execution_count": null,
      "outputs": []
    },
    {
      "cell_type": "code",
      "source": [
        "classes=['vijay','naveen']"
      ],
      "metadata": {
        "id": "kUO6D6lCvMlK"
      },
      "execution_count": null,
      "outputs": []
    },
    {
      "cell_type": "code",
      "source": [
        "def scale(image):\n",
        "  image=tf.cast(image, tf.float32)\n",
        "  image/=25\n",
        "  return tf.image.resize(image,[224,224])"
      ],
      "metadata": {
        "id": "LI4Bf91dvkWr"
      },
      "execution_count": null,
      "outputs": []
    },
    {
      "cell_type": "code",
      "source": [
        "def decode_img(image):\n",
        "  img=tf.image.decode_jpeg(image, channels=3)\n",
        "  img=scale(img)\n",
        "  return np.expand_dims(img, axis=0)\n",
        "\n",
        "\n"
      ],
      "metadata": {
        "id": "f4GjL2YiPfmO"
      },
      "execution_count": null,
      "outputs": []
    },
    {
      "cell_type": "code",
      "source": [
        "path  = st.text_input('enter the image url ','https://signaturely.com/wp-content/uploads/2020/04/oprah-winfrey-signature-signaturely.png')\n",
        "if path is not None:\n",
        "  content = requests.get(path).content\n",
        "  st.write(\"predit class :\")\n",
        "  with st.spinner('classifying........................'):\n",
        "    label = np.argmax(new_model.predict(decode_img(content)), axis=1)\n",
        "    st.write(classes[label[0]])\n",
        "  st.write(\"\")\n",
        "  image=Image.open(BytesIO(content))\n",
        "  st.image(image, caption='sign', use_column_width=True)"
      ],
      "metadata": {
        "id": "_sNyerarimHe"
      },
      "execution_count": null,
      "outputs": []
    },
    {
      "cell_type": "code",
      "source": [
        "!nohup streamlit run score.py &"
      ],
      "metadata": {
        "id": "l4yuAv_dR1r8"
      },
      "execution_count": null,
      "outputs": []
    },
    {
      "cell_type": "code",
      "source": [
        "from pyngrok import ngrok"
      ],
      "metadata": {
        "id": "uMF4VROWXYqd"
      },
      "execution_count": null,
      "outputs": []
    },
    {
      "cell_type": "code",
      "source": [
        "url = ngrok.connect(port=8501)\n",
        "url"
      ],
      "metadata": {
        "id": "vEbh_pTIXonB"
      },
      "execution_count": null,
      "outputs": []
    },
    {
      "cell_type": "code",
      "source": [
        "url"
      ],
      "metadata": {
        "id": "s7kjNgrdXzVC"
      },
      "execution_count": null,
      "outputs": []
    },
    {
      "cell_type": "code",
      "source": [
        "!ngrok config add-authtoken 2FL9v3R2MJq9GEkCZWvjvcjVpB8_3b7sWkpNu4oFAKQY4WjzD"
      ],
      "metadata": {
        "id": "HqJ5yFAzYNl4"
      },
      "execution_count": null,
      "outputs": []
    },
    {
      "cell_type": "code",
      "source": [
        "path  = st.file_uploader(\"Choose a file\")\n",
        "if path is not None:\n",
        "  content = requests.get(path).content\n",
        "  st.write(\"predit class :\")\n",
        "  with st.spinner('classifying........................'):\n",
        "    label = np.argmax(new_model.predict(decode_img(content)), axis=1)\n",
        "    st.write(classes[label[0]])\n",
        "  st.write(\"\")\n",
        "  image=Image.open(BytesIO(content))\n",
        "  st.image(image, caption='sign', use_column_width=True)"
      ],
      "metadata": {
        "id": "7MU6WfQKko5F"
      },
      "execution_count": null,
      "outputs": []
    },
    {
      "cell_type": "code",
      "source": [],
      "metadata": {
        "id": "A_DZpjADnBA8"
      },
      "execution_count": null,
      "outputs": []
    }
  ]
}